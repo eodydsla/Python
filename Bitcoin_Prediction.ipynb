{
 "cells": [
  {
   "cell_type": "code",
   "execution_count": 43,
   "id": "novel-dialogue",
   "metadata": {},
   "outputs": [],
   "source": [
    "import pandas as pd\n",
    "from Historic_Crypto import HistoricalData\n",
    "import numpy as np"
   ]
  },
  {
   "cell_type": "code",
   "execution_count": 44,
   "id": "fallen-ordinary",
   "metadata": {},
   "outputs": [
    {
     "data": {
      "text/plain": [
       "time\n",
       "2022-01-02    0.996731\n",
       "2022-01-03    0.979040\n",
       "2022-01-04    0.965449\n",
       "2022-01-05    0.915326\n",
       "2022-01-06    0.907902\n",
       "                ...   \n",
       "2023-02-06    0.479706\n",
       "2023-02-07    0.489834\n",
       "2023-02-08    0.483927\n",
       "2023-02-09    0.459404\n",
       "2023-02-10    0.460534\n",
       "Name: close, Length: 405, dtype: float64"
      ]
     },
     "execution_count": 44,
     "metadata": {},
     "output_type": "execute_result"
    }
   ],
   "source": [
    "df['close'] / np.max(df['close'])"
   ]
  },
  {
   "cell_type": "code",
   "execution_count": 34,
   "id": "distributed-fifth",
   "metadata": {},
   "outputs": [],
   "source": [
    "from torch.utils.data.dataset import Dataset"
   ]
  },
  {
   "cell_type": "code",
   "execution_count": 45,
   "id": "accepted-andrew",
   "metadata": {},
   "outputs": [],
   "source": [
    "class Bitcoin(Dataset):\n",
    "    def __init__(self):\n",
    "        df = HistoricalData('BTC-USD',86400,'2022-01-01-00-00').retrieve_data()\n",
    "    \n",
    "        self.data = self.data.loc[:,['low','high','open','volume']]\n",
    "        self.data = self.data / np.max(self.data)\n",
    "        self.label = self.label.loc[:,['close']]\n",
    "        self.label = self.label.loc['close'] / np.max(df['close'])        \n",
    "        \n",
    "    def __getitem__(self,i):\n",
    "        data = self.data[i:i+7]\n",
    "        label = self.label[i+7]\n",
    "        \n",
    "        return data, label"
   ]
  }
 ],
 "metadata": {
  "kernelspec": {
   "display_name": "Python 3",
   "language": "python",
   "name": "python3"
  },
  "language_info": {
   "codemirror_mode": {
    "name": "ipython",
    "version": 3
   },
   "file_extension": ".py",
   "mimetype": "text/x-python",
   "name": "python",
   "nbconvert_exporter": "python",
   "pygments_lexer": "ipython3",
   "version": "3.7.5"
  }
 },
 "nbformat": 4,
 "nbformat_minor": 5
}
