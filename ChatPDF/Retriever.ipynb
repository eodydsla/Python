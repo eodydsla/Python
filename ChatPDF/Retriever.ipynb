{
 "cells": [
  {
   "cell_type": "code",
   "execution_count": 1,
   "id": "cd548e1b-9f7b-412e-9532-1e938d34ba5c",
   "metadata": {},
   "outputs": [],
   "source": [
    "from langchain.chains import RetrievalQA  #← RetrievalQA를 가져오기\n",
    "from langchain.chat_models import ChatOpenAI\n",
    "from langchain.embeddings import OpenAIEmbeddings\n",
    "from langchain.vectorstores import Chroma\n",
    "import os "
   ]
  },
  {
   "cell_type": "code",
   "execution_count": 40,
   "id": "7ec028f0-69c1-49f8-bc8d-cf74538ff9c5",
   "metadata": {},
   "outputs": [
    {
     "name": "stdout",
     "output_type": "stream",
     "text": [
      "미세먼지 관리 종합계획은 미세먼지의 관리와 관련된 주요 정책과 대책의 효과를 검토할 수 있는 다양한 분석 방안을 포함하고 있습니다. 이 계획의 목적은 미세먼지 정책의 효과를 정량적으로 분석하고 이를 개선하는 것입니다. 이를 위해 부문별 전문가 포럼이 주제별로 구성되어 여러 번에 걸쳐 운영되었습니다. \n",
      "\n",
      "계획 수립 과정에서는 현재의 배출량 데이터베이스 활용방법, 정책에 따른 대기오염물질 삭감량 산정식, 모델링 등 다양한 방법론이 요구되며, 미세먼지의 이차생성, 건강영향 평가 방법론 등 주요 개념도 검토됩니다. 이런 방법론들을 통해 미세먼지 관리 종합계획 내 개별정책의 성과를 평가하고, 해당 계획 수립과 정책 관리 과정의 신뢰성과 객관성을 제고하려는 목표를 가지고 있습니다.\n",
      "\n",
      "또한, 대기오염물질 배출량 변화 수준을 논의할 수 있도록 전망배출량 산정 방법을 제시하고, 미세먼지의 건강 영향 평가와 정책 효과 분석에 관련된 중장기 발전 계획을 제시하고 있습니다. 이 계획은 또한 향후 변화하는 상황과 주요 변동 사항을 반영할 수 있는 방향을 제시하는 것을 목표로 하고 있습니다.\n",
      "[Document(page_content='피해 규모와 평가 등을 반영할 수 있도록 지속적으로 각계 전문가의 의견 등을 폭넓게 청취해\\n야 할 것이다. 이러한 점을 고려해 본 연구에서는 미세먼지 관리 종합계획과 관련하여 국내‧외 \\n효과분석 현황 및 연구 성과 등 분석과 전망배출량 산정을 위한 방안을 검토하였다. 또한 분\\n야별 전문가 의견을 반영한 전망배출량 산정 개선방안과 정책효과 분석과 관련된 장‧단\\n기 로드맵을 제시하였다.', metadata={'source': './data/미세먼지_정책_효과분석_개선방안_연구_심창섭.pdf', 'file_path': './data/미세먼지_정책_효과분석_개선방안_연구_심창섭.pdf', 'page': 16, 'total_pages': 197, 'format': 'PDF 1.4', 'title': '', 'author': '', 'subject': '', 'keywords': '', 'creator': 'Hwp 2018 11.0.0.2129', 'producer': 'Hancom PDF 1.3.0.538', 'creationDate': \"D:20221205103204+09'00'\", 'modDate': \"D:20221206160319+09'00'\", 'trapped': ''}), Document(page_content='미세먼지 정책 효과분석 개선방안 연구\\n4\\n2. 연구 목적\\n\\uf000미세먼지 관리 종합계획\\uf000 내 주요 정책과 대책의 효과를 검토할 수 있는 분석 방안을 다각\\n화하고 부문별, 해당 정책효과의 정량적 분석 방법 개선을 목적으로 한다. 특히 \\uf000미세먼지 관\\n리 종합계획\\uf000 관련성이 높은 \\uf000권역별 대기환경관리 기본계획\\uf000 등의 접근방법을 공유하고 \\nBusiness as usual(BAU) 등 정책효과 분석 방법론 등에 대한 정합성 확보가 가능한 최선의 \\n방안을 제시하였다. 미세먼지 정책 효과분석법을 개선하기 위해 부문별 전문가 포럼을 주제별\\n로 구성하여 10회에 걸쳐 운영하였다. 특히 대기오염물질 배출량 변화 수준을 논의할 수 있도\\n록 전망배출량 산정 방법을 제시하는 등 정량적 정책효과 분석법을 중심으로 살펴보았다. \\n본 연구는 \\uf000미세먼지 관리 종합계획\\uf000 내 개별정책의 성과 평가 방법론과 향후 해당 계획 \\n수립과 정책 관리 과정의 신뢰성·객관성 제고를 위한 방법론 제시를 목적으로 한다. 또한 현\\n행 배출량 DB 활용방법, 정책에 따른 대기오염물질 삭감량 산정식, 모델링 등 계획 수립 단계\\n에서 요구되는 방법론과 미세먼지 이차생성, 건강영향 평가 방법론 등 관련 주요 개념을 검토\\n하여 미세먼지 정책 수립과 효과 분석 평가와 관련된 중장기 발전계획을 제시하였다.1) \\n1) 종합계획 수립 및 이행과정의 대내외 여건의 변화와 주요 변동사항 반영이 가능한 방향을 제시를 목표로 함.', metadata={'source': './data/미세먼지_정책_효과분석_개선방안_연구_심창섭.pdf', 'file_path': './data/미세먼지_정책_효과분석_개선방안_연구_심창섭.pdf', 'page': 17, 'total_pages': 197, 'format': 'PDF 1.4', 'title': '', 'author': '', 'subject': '', 'keywords': '', 'creator': 'Hwp 2018 11.0.0.2129', 'producer': 'Hancom PDF 1.3.0.538', 'creationDate': \"D:20221205103204+09'00'\", 'modDate': \"D:20221206160319+09'00'\", 'trapped': ''}), Document(page_content='미세먼지 정책 효과분석 개선방안 연구\\n150\\n4. 미세먼지 건강영향 평가 및 미세먼지 정책효과 분석\\n우리나라는 계절적 요인으로 매년 12~3월에 미세먼지 고농도 현상이 빈번해 대표적인 미\\n세먼지 관리대책으로 \\uf000미세먼지 계절관리제 시행계획\\uf000을 매년 수립하고, 3차 계획까지 시행\\n하였다. 또한, 효과적인 미세먼지 관리를 위해 국가계획을 수립하고, 지자체 이행계획을 세\\n워 매년 평가하고 있다. 하지만 국가계획에서 미세먼지 건강위해도 분석을 심화해서 다룬 \\n것은 2020년 수립된 \\uf000권역별 대기환경관리 기본계획\\uf000가 유일하다고 볼 수 있다. 기본계획\\n에서는 권역별 조기사망자 수와 호흡기질환 등의 진단자 수의 감소 효과와 사회적 편익 효\\n과를 소개하고 있다. 하지만 이마저도 최신 방법론이 아니고, 최신 방법론의 자료 확보 한계\\n가 존재한다. \\n현재 국민들은 미세먼지에 대한 위해성은 인지하고 있지만 그 위험 정도에 대해서는 정확\\n한 지침이 없고, 미세먼지 정책의 이행으로 인해 위해성이 얼마나 감소하는지에 대한 체감 \\n역시 부족한 실정이다. 따라서 향후 국가계획 수립 시에는 개정된 WHO 대기질 가이드라인\\n을 참고로 국민들이 체감할 수 있는 인체위해성 저감효과를 수록하고, 미세먼지의 저감 목표\\n로 인체위해성을 고려할 필요가 있다.\\n미세먼지 건강영향 평가 전문가 포럼에서는 국가계획에서 건강위해성을 고려하기 위한 방\\n안을 위해 전문가로 구성된 포럼위원 및 이해당사자 등과 긴밀한 논의를 거쳤고, 내용은 다음 \\n표와 같다.', metadata={'source': './data/미세먼지_정책_효과분석_개선방안_연구_심창섭.pdf', 'file_path': './data/미세먼지_정책_효과분석_개선방안_연구_심창섭.pdf', 'page': 163, 'total_pages': 197, 'format': 'PDF 1.4', 'title': '', 'author': '', 'subject': '', 'keywords': '', 'creator': 'Hwp 2018 11.0.0.2129', 'producer': 'Hancom PDF 1.3.0.538', 'creationDate': \"D:20221205103204+09'00'\", 'modDate': \"D:20221206160319+09'00'\", 'trapped': ''}), Document(page_content='역 단위 대량배출 사업장을 대상으로 총량 관리대상을 확대하고 배출허용기준도 신설되거나 \\n강화되고 있다. 그럼에도 불구하고 현행 배출원 인벤토리 상 누락 배출원 및 과소평가 문제가 \\n단기에 해결이 어려운 측면이 있다. 또한 수송(도로/비도로)부문은 정책이 향후 운행차 중심\\n으로 이루어질 것으로 예상되는 가운데 현행 등록지 방식 인벤토리 활용 시 분석에 한계가 \\n발생할 수 있다. 이와 같은 한계와 필요성을 고려할 때 중장기적으로 지속적인 정책효과 분석 \\n고도화 노력이 요구된다. \\n60) 시기적으로는 2019년 종합계획을 수립하며 미세먼지 농도 목표를 설정하였으며(~‘24년 16 ㎍/m3), 계절관리\\n제 및 고농도 비상저감조치를 시행함. 2020년 미세먼지 정책의 효과를 높이기 위한 추가 대책의 성격으로 \\n권역별 대기환경 기본계획을 수립하여 권역별 세부저감방안을 도입하였음.', metadata={'source': './data/미세먼지_정책_효과분석_개선방안_연구_심창섭.pdf', 'file_path': './data/미세먼지_정책_효과분석_개선방안_연구_심창섭.pdf', 'page': 176, 'total_pages': 197, 'format': 'PDF 1.4', 'title': '', 'author': '', 'subject': '', 'keywords': '', 'creator': 'Hwp 2018 11.0.0.2129', 'producer': 'Hancom PDF 1.3.0.538', 'creationDate': \"D:20221205103204+09'00'\", 'modDate': \"D:20221206160319+09'00'\", 'trapped': ''})]\n"
     ]
    }
   ],
   "source": [
    "\n",
    "\n",
    "chat = ChatOpenAI(model=\"gpt-4\")\n",
    "\n",
    "embeddings = OpenAIEmbeddings(\n",
    "    model=\"text-embedding-ada-002\"\n",
    ")\n",
    "\n",
    "database = Chroma(\n",
    "    collection_name= \"kei\",\n",
    "    persist_directory=\"./embedding/\", \n",
    "    embedding_function=embeddings\n",
    ")\n",
    "\n",
    "retriever = database.as_retriever() #← 데이터베이스를 Retriever로 변환\n",
    "\n",
    "qa = RetrievalQA.from_llm(  #← RetrievalQA를 초기화\n",
    "    llm=chat,  #← Chat models를 지정\n",
    "    retriever=retriever,  #← Retriever를 지정\n",
    "    return_source_documents=True  #← 응답에 원본 문서를 포함할지를 지정\n",
    ")\n",
    "\n",
    "result = qa('미세먼지 관리 종합계획에 대해 알려줘')\n",
    "\n",
    "print(result[\"result\"]) #← 응답을 표시\n",
    "\n",
    "print(result[\"source_documents\"]) #← 원본 문서를 표시"
   ]
  },
  {
   "cell_type": "code",
   "execution_count": null,
   "id": "5aa5a4cd-d355-441f-af70-5f181a9da587",
   "metadata": {},
   "outputs": [],
   "source": []
  },
  {
   "cell_type": "code",
   "execution_count": 15,
   "id": "31550efa-edce-4be4-af2d-585ba1a5a9c8",
   "metadata": {},
   "outputs": [
    {
     "name": "stdout",
     "output_type": "stream",
     "text": [
      "284\n"
     ]
    }
   ],
   "source": [
    "print(database._collection.count())"
   ]
  }
 ],
 "metadata": {
  "kernelspec": {
   "display_name": "Python 3 (ipykernel)",
   "language": "python",
   "name": "python3"
  },
  "language_info": {
   "codemirror_mode": {
    "name": "ipython",
    "version": 3
   },
   "file_extension": ".py",
   "mimetype": "text/x-python",
   "name": "python",
   "nbconvert_exporter": "python",
   "pygments_lexer": "ipython3",
   "version": "3.10.0"
  }
 },
 "nbformat": 4,
 "nbformat_minor": 5
}
