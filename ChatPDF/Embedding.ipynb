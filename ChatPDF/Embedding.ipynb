{
 "cells": [
  {
   "cell_type": "code",
   "execution_count": 1,
   "id": "0d71da9b-08a2-4c60-8933-ae04bb65ddfb",
   "metadata": {},
   "outputs": [
    {
     "name": "stderr",
     "output_type": "stream",
     "text": [
      "/home/dyjin/work/lib/python3.10/site-packages/langchain_core/_api/deprecation.py:117: LangChainDeprecationWarning: The class `langchain_community.embeddings.openai.OpenAIEmbeddings` was deprecated in langchain-community 0.0.9 and will be removed in 0.2.0. An updated version of the class exists in the langchain-openai package and should be used instead. To use it run `pip install -U langchain-openai` and import as `from langchain_openai import OpenAIEmbeddings`.\n",
      "  warn_deprecated(\n"
     ]
    },
    {
     "name": "stdout",
     "output_type": "stream",
     "text": [
      "2024-03-12 08:19:12 - Anonymized telemetry enabled. See https://docs.trychroma.com/telemetry for more information.\n",
      "2024-03-12 08:19:13 - loaded in 0 embeddings\n",
      "2024-03-12 08:19:13 - loaded in 1 collections\n",
      "284\n",
      "2024-03-12 08:19:19 - HTTP Request: POST https://api.openai.com/v1/embeddings \"HTTP/1.1 200 OK\"\n",
      "2024-03-12 08:19:23 - Persisting DB to disk, putting it in the save folder: ./embedding\n",
      "데이터베이스 생성이 완료되었습니다.\n"
     ]
    }
   ],
   "source": [
    "from langchain.document_loaders import PyMuPDFLoader\n",
    "from langchain.embeddings import OpenAIEmbeddings  #← OpenAIEmbeddings 가져오기\n",
    "from langchain.vectorstores import Chroma  #← Chroma 가져오기\n",
    "from langchain.text_splitter import RecursiveCharacterTextSplitter\n",
    "import chainlit as cl\n",
    "import os\n",
    "import tiktoken\n",
    "\n",
    "\n",
    "# text_splitter = SpacyTextSplitter(\n",
    "#     chunk_size=300, \n",
    "#     pipeline=\"ko_core_news_sm\"\n",
    "# )\n",
    "\n",
    "def tiktoken_len(text):\n",
    "    tokenizer = tiktoken.get_encoding(\"cl100k_base\")\n",
    "    tokens = tokenizer.encode(text)\n",
    "    return len(tokens)\n",
    "    \n",
    "text_splitter = RecursiveCharacterTextSplitter(\n",
    "    chunk_size=900,\n",
    "    chunk_overlap=100,\n",
    "    length_function=tiktoken_len\n",
    ")\n",
    "\n",
    "embeddings = OpenAIEmbeddings( #← OpenAIEmbeddings를 초기화\n",
    "    model=\"text-embedding-ada-002\" #← 모델명을 지정\n",
    ")\n",
    "\n",
    "\n",
    "database = Chroma(  #← Chroma를 초기화\n",
    "    collection_name= \"kei\",\n",
    "    persist_directory=\"./embedding\",  #← 영속화 데이터 저장 위치 지정\n",
    "    embedding_function=embeddings  #← 벡터화할 모델을 지정\n",
    ")\n",
    "\n",
    "doc_dir = \"./data/\"\n",
    "file_list = os.listdir(doc_dir)\n",
    "\n",
    "for f in file_list:\n",
    "    loader = PyMuPDFLoader(doc_dir+f)\n",
    "    documents = loader.load()\n",
    "    splitted_documents = text_splitter.split_documents(documents)\n",
    "    print(len(splitted_documents))\n",
    "    database.add_documents(splitted_documents)\n",
    "\n",
    "database.persist()\n",
    "print(\"데이터베이스 생성이 완료되었습니다.\") #← 완료 알림"
   ]
  }
 ],
 "metadata": {
  "kernelspec": {
   "display_name": "Python 3 (ipykernel)",
   "language": "python",
   "name": "python3"
  },
  "language_info": {
   "codemirror_mode": {
    "name": "ipython",
    "version": 3
   },
   "file_extension": ".py",
   "mimetype": "text/x-python",
   "name": "python",
   "nbconvert_exporter": "python",
   "pygments_lexer": "ipython3",
   "version": "3.10.0"
  }
 },
 "nbformat": 4,
 "nbformat_minor": 5
}
